{
 "cells": [
  {
   "cell_type": "code",
   "id": "initial_id",
   "metadata": {
    "collapsed": true,
    "ExecuteTime": {
     "end_time": "2025-08-20T21:58:33.192639Z",
     "start_time": "2025-08-20T21:58:33.188516Z"
    }
   },
   "source": [
    "import pandas as pd\n",
    "import numpy as np\n",
    "import matplotlib.pyplot as plt\n",
    "from src.ocr import util\n",
    "\n",
    "def main():\n",
    "    # Load the dataset\n",
    "    df = pd.read_csv(r'C:\\Users\\abajp\\PycharmProjects\\BofAOCRProject\\data\\processed\\output.csv')\n",
    "\n",
    "    # Display the first few rows of the dataframe\n",
    "    print(df.head())\n",
    "    df = pd.read_csv(r'C:\\Users\\abajp\\PycharmProjects\\BofAOCRProject\\data\\processed\\output.csv')\n",
    "    nulls = df[df.isna().any(axis=1)]\n",
    "    nulls.to_csv(\"null_rows_snapshot.csv\", index=False)\n",
    "    \n",
    "    # Drop nulls & empty strings in core columns\n",
    "    df = df.dropna(subset=[\"text\", \"type\"])\n",
    "    df = df[df[\"text\"].str.strip() != \"\"]\n",
    "    from sklearn.model_selection import train_test_split\n",
    "    train_val, test = train_test_split(df, test_size=0.1, random_state=42, stratify=df['type'])\n",
    "    train, val = train_test_split(train_val, test_size=0.09, random_state=42, stratify=train_val['type'])\n",
    "    train_val_pct = train_val.value_counts('type')/len(train_val)*100\n",
    "    test_val_pct = test.value_counts('type')/len(test)*100\n",
    "    diff = train_val_pct - test_val_pct\n",
    "    results = util.compare_distributions(df, [('train', train), ('val', val), ('test', test)], 'type')\n",
    "    train.to_csv(\"../data/processed/datasets/v1/train.csv\", index=False)\n",
    "    val.to_csv(\"../data/processed/datasets/v1/validation.csv\", index=False)\n",
    "    test.to_csv(\"../data/processed/datasets/v1/test.csv\", index=False)\n",
    "\n"
   ],
   "outputs": [],
   "execution_count": 2
  },
  {
   "metadata": {
    "ExecuteTime": {
     "end_time": "2025-08-20T21:58:34.843164Z",
     "start_time": "2025-08-20T21:58:33.599162Z"
    }
   },
   "cell_type": "code",
   "source": [
    "if __name__ == \"__main__\":\n",
    "    main()\n"
   ],
   "id": "fe243d28fc534009",
   "outputs": [
    {
     "name": "stdout",
     "output_type": "stream",
     "text": [
      "        filename    type                                               text\n",
      "0    budget0.tif  budget  3 leq burnett usa  advertising  newspaper esti...\n",
      "1    budget0.tif  budget  3 leq burnett usa  advertising  newspaper esti...\n",
      "2    budget1.tif  budget  wesstern raven peas advertising budget virgini...\n",
      "3   budget10.tif  budget  the tobacco institute l993 budget cost center ...\n",
      "4  budget100.tif  budget  additions to original mod project costs author...\n",
      "✅ Distributions are similar full vs train\n",
      "✅ Distributions are similar full vs val\n",
      "✅ Distributions are similar full vs test\n"
     ]
    }
   ],
   "execution_count": 3
  },
  {
   "metadata": {},
   "cell_type": "code",
   "outputs": [],
   "execution_count": null,
   "source": "",
   "id": "289c28cb08d1479c"
  }
 ],
 "metadata": {
  "kernelspec": {
   "display_name": "Python 3",
   "language": "python",
   "name": "python3"
  },
  "language_info": {
   "codemirror_mode": {
    "name": "ipython",
    "version": 2
   },
   "file_extension": ".py",
   "mimetype": "text/x-python",
   "name": "python",
   "nbconvert_exporter": "python",
   "pygments_lexer": "ipython2",
   "version": "2.7.6"
  }
 },
 "nbformat": 4,
 "nbformat_minor": 5
}
