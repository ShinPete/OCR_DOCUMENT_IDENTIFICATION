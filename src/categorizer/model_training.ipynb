{
 "cells": [
  {
   "metadata": {
    "ExecuteTime": {
     "end_time": "2025-09-01T00:31:38.567425Z",
     "start_time": "2025-09-01T00:31:08.456830Z"
    }
   },
   "cell_type": "code",
   "source": [
    "from pathlib import Path\n",
    "import pandas as pd\n",
    "from sklearn.pipeline import Pipeline\n",
    "from sklearn.feature_extraction.text import TfidfVectorizer\n",
    "from sklearn.linear_model import LogisticRegression\n",
    "from sklearn.preprocessing import LabelEncoder\n",
    "from sklearn.metrics import classification_report, f1_score\n",
    "\n",
    "ROOT = ROOT = Path.cwd().parents[1]  # if running from notebooks/, ROOT.parents[0] is repo root. Adjust if needed.\n",
    "REPO = ROOT if (ROOT / \"data\").exists() else ROOT.parents[0]\n",
    "\n",
    "def main():\n",
    "    # 1) load splits\n",
    "    train = pd.read_csv(REPO / \"data/processed/datasets/v1/train.csv\")\n",
    "    val   = pd.read_csv(REPO / \"data/processed/datasets/v1/validation.csv\")\n",
    "    # test = pd.read_csv(REPO / \"data/processed/datasets/v1/test.csv\")  # optional now\n",
    "\n",
    "    # 2) labels\n",
    "    le = LabelEncoder()\n",
    "    y_train = le.fit_transform(train[\"type\"])\n",
    "    y_val   = le.transform(val[\"type\"])\n",
    "\n",
    "    # 3) model pipeline (word bi-grams is fine to start. try char 3–5 next)\n",
    "    pipe = Pipeline([\n",
    "        (\"tfidf\", TfidfVectorizer(ngram_range=(1, 2), max_features=50_000, min_df=2, sublinear_tf=True)),\n",
    "        (\"clf\",   LogisticRegression(max_iter=2000, solver=\"lbfgs\", n_jobs=None, class_weight=\"balanced\", multi_class=\"auto\"))\n",
    "    ])\n",
    "\n",
    "    # 4) train + eval\n",
    "    pipe.fit(train[\"text\"].astype(str), y_train)\n",
    "    y_hat = pipe.predict(val[\"text\"].astype(str))\n",
    "\n",
    "    print(classification_report(y_val, y_hat, target_names=le.classes_, digits=4))\n",
    "    print(\"Macro-F1:\", f1_score(y_val, y_hat, average=\"macro\"))\n",
    "\n",
    "if __name__ == \"__main__\":\n",
    "    main()\n"
   ],
   "id": "a65547692b1f7a89",
   "outputs": [
    {
     "name": "stderr",
     "output_type": "stream",
     "text": [
      "C:\\Users\\abajp\\PycharmProjects\\Weather_Pipeline\\venv\\Lib\\site-packages\\sklearn\\linear_model\\_logistic.py:1247: FutureWarning: 'multi_class' was deprecated in version 1.5 and will be removed in 1.7. From then on, it will always use 'multinomial'. Leave it to its default value to avoid this warning.\n",
      "  warnings.warn(\n"
     ]
    },
    {
     "name": "stdout",
     "output_type": "stream",
     "text": [
      "              precision    recall  f1-score   support\n",
      "\n",
      "      budget     0.8448    0.9119    0.8771      1624\n",
      "       email     0.9718    0.9200    0.9452      1613\n",
      "     invoice     0.8893    0.8648    0.8769      1598\n",
      "      letter     0.9234    0.9239    0.9236      1617\n",
      "\n",
      "    accuracy                         0.9053      6452\n",
      "   macro avg     0.9073    0.9052    0.9057      6452\n",
      "weighted avg     0.9073    0.9053    0.9058      6452\n",
      "\n",
      "Macro-F1: 0.90572098709667\n"
     ]
    }
   ],
   "execution_count": 29
  },
  {
   "metadata": {
    "ExecuteTime": {
     "end_time": "2025-09-01T00:30:56.764895Z",
     "start_time": "2025-09-01T00:30:56.760702Z"
    }
   },
   "cell_type": "code",
   "source": "",
   "id": "2c785b8bad4a85a8",
   "outputs": [
    {
     "data": {
      "text/plain": [
       "WindowsPath('C:/Users/abajp/PycharmProjects/BofAOCRProject')"
      ]
     },
     "execution_count": 28,
     "metadata": {},
     "output_type": "execute_result"
    }
   ],
   "execution_count": 28
  },
  {
   "metadata": {},
   "cell_type": "code",
   "outputs": [],
   "execution_count": null,
   "source": "",
   "id": "ae9dcc734397b836"
  }
 ],
 "metadata": {
  "kernelspec": {
   "display_name": "Python 3",
   "language": "python",
   "name": "python3"
  },
  "language_info": {
   "codemirror_mode": {
    "name": "ipython",
    "version": 2
   },
   "file_extension": ".py",
   "mimetype": "text/x-python",
   "name": "python",
   "nbconvert_exporter": "python",
   "pygments_lexer": "ipython2",
   "version": "2.7.6"
  }
 },
 "nbformat": 4,
 "nbformat_minor": 5
}
